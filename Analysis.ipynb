{
 "cells": [
  {
   "cell_type": "code",
   "execution_count": 4,
   "metadata": {},
   "outputs": [
    {
     "name": "stdout",
     "output_type": "stream",
     "text": [
      "Predictions-Dheeraj Dinuraj\n"
     ]
    }
   ],
   "source": [
    "'''code for adding In-silico predictions of a patient to a template document'''\n",
    "import pandas as pd\n",
    "import docx\n",
    "import numpy as np\n",
    "from docx.shared import Pt\n",
    "from docx.enum.style import WD_STYLE_TYPE\n",
    "from docx.shared import RGBColor\n",
    "from pathlib import Path\n",
    "import os\n",
    "our_path = Path(\"C:\\\\Users\\\\GENETICS\\\\Desktop\\\\Lifeline Genetics Bioinformatics- SNV predictions\\\\Results\")\n",
    "doc = docx.Document('Variant_analysis.docx')\n",
    "doc1=docx.Document('Multiple_patients_tabular_results.docx')\n",
    "table=doc.tables[3]\n",
    "table1=doc1.tables[0]\n",
    "data = [[cell.text for cell in row.cells] for row in table.rows]\n",
    "data1= [[cell.text for cell in row.cells] for row in table1.rows]\n",
    "df1 = pd.DataFrame(data)\n",
    "df2= pd.DataFrame(data1)\n",
    "for column in df2.columns:\n",
    "        df1.iloc[:,4]=df2.iloc[:,column]\n",
    "for i, column in enumerate(df1):\n",
    "        for row in range(df1.shape[0]):\n",
    "            table.cell(row, i).text = str(df1[column][row])\n",
    "for i in df1.columns:\n",
    "    hdr_cells = table.rows[0].cells\n",
    "    run = table.cell(0, i).paragraphs[0].runs[0]\n",
    "    run.font.bold = True\n",
    "for i in range(1,12):\n",
    "    col_cells=table.rows[i].cells\n",
    "    run=table.cell(i,4).paragraphs[0].runs[0]\n",
    "    run.font.bold=True\n",
    "    font = run.font\n",
    "    font.color.rgb = RGBColor(255, 0, 0)\n",
    "font = doc.styles['Normal'].font\n",
    "font.name = 'Times New Roman'\n",
    "font.size= Pt(9.5)\n",
    "s=table.cell(0,4).text\n",
    "print(s)\n",
    "new_path = our_path.joinpath(s[12:])\n",
    "if not new_path.exists():\n",
    "            new_path.mkdir()\n",
    "doc.save(new_path.joinpath(s[12:]+' Variant_analysis.docx'))"
   ]
  },
  {
   "cell_type": "code",
   "execution_count": null,
   "metadata": {},
   "outputs": [],
   "source": []
  }
 ],
 "metadata": {
  "kernelspec": {
   "display_name": "Python 3 (ipykernel)",
   "language": "python",
   "name": "python3"
  },
  "language_info": {
   "codemirror_mode": {
    "name": "ipython",
    "version": 3
   },
   "file_extension": ".py",
   "mimetype": "text/x-python",
   "name": "python",
   "nbconvert_exporter": "python",
   "pygments_lexer": "ipython3",
   "version": "3.9.7"
  }
 },
 "nbformat": 4,
 "nbformat_minor": 4
}
