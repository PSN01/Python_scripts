{
 "cells": [
  {
   "cell_type": "code",
   "execution_count": 35,
   "metadata": {},
   "outputs": [
    {
     "name": "stdout",
     "output_type": "stream",
     "text": [
      "Predictions-Humayoon S\n"
     ]
    }
   ],
   "source": [
    "'''code for copying results in a dataframe to a table column in a document'''\n",
    "import pandas as pd \n",
    "import docx\n",
    "import numpy as np\n",
    "from docx.shared import Pt\n",
    "from docx.enum.style import WD_STYLE_TYPE\n",
    "from docx.shared import RGBColor\n",
    "doc = docx.Document('template.docx')\n",
    "doc1=docx.Document('predictions.docx')\n",
    "table=doc.tables[1]\n",
    "table1=doc1.tables[0]\n",
    "data = [[cell.text for cell in row.cells] for row in table.rows]\n",
    "data1= [[cell.text for cell in row.cells] for row in table1.rows]\n",
    "df1 = pd.DataFrame(data)\n",
    "df2= pd.DataFrame(data1)\n",
    "for column in df2.columns:\n",
    "        df1.iloc[:,4]=df2.iloc[:,column]\n",
    "for i, column in enumerate(df1):\n",
    "        for row in range(df1.shape[0]):\n",
    "            table.cell(row, i).text = str(df1[column][row])\n",
    "for i in df1.columns:\n",
    "    hdr_cells = table.rows[0].cells\n",
    "    run = table.cell(0, i).paragraphs[0].runs[0]\n",
    "    run.font.bold = True\n",
    "for i in range(1,12):\n",
    "    col_cells=table.rows[i].cells\n",
    "    run=table.cell(i,4).paragraphs[0].runs[0]\n",
    "    run.font.bold=True\n",
    "    font = run.font\n",
    "    font.color.rgb = RGBColor(255, 0, 0)\n",
    "s=table.cell(0,4).text\n",
    "print(s)\n",
    "font = doc.styles['Normal'].font\n",
    "font.name = 'Times New Roman'\n",
    "font.size= Pt(9.5)\n",
    "doc.save(s+'template.docx')"
   ]
  },
  {
   "cell_type": "code",
   "execution_count": null,
   "metadata": {},
   "outputs": [],
   "source": []
  }
 ],
 "metadata": {
  "kernelspec": {
   "display_name": "Python 3",
   "language": "python",
   "name": "python3"
  },
  "language_info": {
   "codemirror_mode": {
    "name": "ipython",
    "version": 3
   },
   "file_extension": ".py",
   "mimetype": "text/x-python",
   "name": "python",
   "nbconvert_exporter": "python",
   "pygments_lexer": "ipython3",
   "version": "3.7.6"
  }
 },
 "nbformat": 4,
 "nbformat_minor": 4
}
