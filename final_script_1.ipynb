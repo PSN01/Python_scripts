{
 "cells": [
  {
   "cell_type": "code",
   "execution_count": 59,
   "metadata": {},
   "outputs": [
    {
     "name": "stdout",
     "output_type": "stream",
     "text": [
      "584\n"
     ]
    }
   ],
   "source": [
    "df5=pd.read_excel('dipole_rotation_C12_average_10_100.xlsx')\n",
    "t=df5.iloc[:,9].values.tolist()"
   ]
  },
  {
   "cell_type": "code",
   "execution_count": 60,
   "metadata": {},
   "outputs": [],
   "source": [
    "from biopandas.pdb import PandasPdb\n",
    "outputfile = \"nvt_edit.pdb\"\n",
    "outfile = open(outputfile,'w')\n",
    "ppdb = PandasPdb()\n",
    "ppdb.read_pdb('nvt.pdb')\n",
    "df1=ppdb.df['ATOM']\n",
    "df1.to_excel('nvtout.xlsx')\n",
    "df2 = df1.groupby([df1['residue_number'].ne(df1['residue_number'].shift()).cumsum(), 'residue_number']).size()"
   ]
  },
  {
   "cell_type": "code",
   "execution_count": 62,
   "metadata": {},
   "outputs": [
    {
     "name": "stdout",
     "output_type": "stream",
     "text": [
      "584\n"
     ]
    }
   ],
   "source": [
    "df2.to_excel('nvtrange.xls')\n",
    "import numpy as np\n",
    "import pandas as pd\n",
    "x=df2.values.tolist()\n",
    "print(len(x))\n",
    "data=np.repeat(t, x)\n",
    "df3=pd.DataFrame(data)\n",
    "for i in df1.iterrows():\n",
    "    df1.iloc[:, 15] = df3.iloc[:,0]"
   ]
  },
  {
   "cell_type": "code",
   "execution_count": 63,
   "metadata": {},
   "outputs": [],
   "source": [
    "ppdb.df['b_factor']=df1['b_factor']\n",
    "ppdb.to_pdb(outputfile, records=['ATOM'])"
   ]
  },
  {
   "cell_type": "code",
   "execution_count": 45,
   "metadata": {},
   "outputs": [],
   "source": []
  },
  {
   "cell_type": "code",
   "execution_count": null,
   "metadata": {},
   "outputs": [],
   "source": []
  }
 ],
 "metadata": {
  "kernelspec": {
   "display_name": "Python 3",
   "language": "python",
   "name": "python3"
  },
  "language_info": {
   "codemirror_mode": {
    "name": "ipython",
    "version": 3
   },
   "file_extension": ".py",
   "mimetype": "text/x-python",
   "name": "python",
   "nbconvert_exporter": "python",
   "pygments_lexer": "ipython3",
   "version": "3.7.4"
  }
 },
 "nbformat": 4,
 "nbformat_minor": 2
}
